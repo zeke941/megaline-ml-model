{
 "cells": [
  {
   "cell_type": "markdown",
   "metadata": {},
   "source": [
    "En este proyecto, se desarrolla un modelo de clasificación para ayudar a la compañía móvil Megaline a recomendar el plan más adecuado para sus clientes: Smart o Ultra. El objetivo principal es utilizar datos de comportamiento mensual de los usuarios (como llamadas realizadas, duración total de llamadas, mensajes enviados y tráfico de Internet utilizado) para predecir con la mayor precisión posible el tipo de plan que deberían utilizar.\n",
    "\n",
    "Este análisis se basa en un dataset previamente procesado y se enfoca en construir, entrenar y evaluar distintos modelos de machine learning. Para cumplir con los criterios del negocio, se busca alcanzar una precisión mínima del 75%. La evaluación se lleva a cabo utilizando un conjunto de entrenamiento, validación y prueba, además de realizar un estudio de modelos y ajustes de hiperparámetros. También se incluye una prueba de cordura para verificar la solidez del modelo."
   ]
  },
  {
   "cell_type": "code",
   "execution_count": 10,
   "metadata": {},
   "outputs": [],
   "source": [
    "import pandas as pd\n",
    "import numpy as np\n",
    "from sklearn.tree import DecisionTreeClassifier\n",
    "from sklearn.ensemble import RandomForestClassifier\n",
    "from sklearn.linear_model import LogisticRegression"
   ]
  },
  {
   "cell_type": "code",
   "execution_count": 11,
   "metadata": {},
   "outputs": [],
   "source": [
    "df = pd.read_csv('/datasets/users_behavior.csv')\n",
    "df.columns = df.columns.str.lower()"
   ]
  },
  {
   "cell_type": "code",
   "execution_count": 12,
   "metadata": {},
   "outputs": [
    {
     "name": "stdout",
     "output_type": "stream",
     "text": [
      "Data Set Compañia:\n",
      "<class 'pandas.core.frame.DataFrame'>\n",
      "RangeIndex: 3214 entries, 0 to 3213\n",
      "Data columns (total 5 columns):\n",
      " #   Column    Non-Null Count  Dtype  \n",
      "---  ------    --------------  -----  \n",
      " 0   calls     3214 non-null   float64\n",
      " 1   minutes   3214 non-null   float64\n",
      " 2   messages  3214 non-null   float64\n",
      " 3   mb_used   3214 non-null   float64\n",
      " 4   is_ultra  3214 non-null   int64  \n",
      "dtypes: float64(4), int64(1)\n",
      "memory usage: 125.7 KB\n",
      "None\n",
      "   calls  minutes  messages   mb_used  is_ultra\n",
      "0   40.0   311.90      83.0  19915.42         0\n",
      "1   85.0   516.75      56.0  22696.96         0\n",
      "2   77.0   467.66      86.0  21060.45         0\n",
      "3  106.0   745.53      81.0   8437.39         1\n",
      "4   66.0   418.74       1.0  14502.75         0 \n",
      "\n",
      "Valores nulos en df:\n",
      " calls       0\n",
      "minutes     0\n",
      "messages    0\n",
      "mb_used     0\n",
      "is_ultra    0\n",
      "dtype: int64 \n",
      "\n"
     ]
    }
   ],
   "source": [
    "print(\"Data Set Compañia:\")\n",
    "print(df.info())\n",
    "print(df.head(), '\\n')\n",
    "print(\"Valores nulos en df:\\n\", df.isna().sum(), '\\n')"
   ]
  },
  {
   "cell_type": "code",
   "execution_count": 13,
   "metadata": {},
   "outputs": [],
   "source": [
    "#Separar características y objetivo\n",
    "\n",
    "#Variables predictoras (X) y objetivo (y)\n",
    "X = df.drop('is_ultra', axis=1)\n",
    "y = df['is_ultra']\n"
   ]
  },
  {
   "cell_type": "code",
   "execution_count": 14,
   "metadata": {},
   "outputs": [],
   "source": [
    "#Dividir en entrenamiento, validación y prueba\n",
    "\n",
    "#Primero dividimos en entrenamiento + validación y prueba (80/20)\n",
    "X_temp, X_test, y_temp, y_test = train_test_split(X, y, test_size=0.2, random_state=12345)\n",
    "\n",
    "#Luego dividimos X_temp (80%) en entrenamiento y validación (60/20 del total)\n",
    "X_train, X_valid, y_train, y_valid = train_test_split(X_temp, y_temp, test_size=0.25, random_state=12345)"
   ]
  },
  {
   "cell_type": "code",
   "execution_count": 15,
   "metadata": {},
   "outputs": [
    {
     "name": "stdout",
     "output_type": "stream",
     "text": [
      "Mejor Árbol de Decisión: profundidad=7 - Accuracy=0.774\n"
     ]
    }
   ],
   "source": [
    "#Probar varios modelos (árbol, random forest, logistic regression)\n",
    "\n",
    "#Árbol de decisión con diferentes profundidades\n",
    "best_tree_model = None\n",
    "best_tree_score = 0\n",
    "\n",
    "for depth in range(1, 21):\n",
    "    model = DecisionTreeClassifier(max_depth=depth, random_state=12345)\n",
    "    model.fit(X_train, y_train)\n",
    "    score = model.score(X_valid, y_valid)\n",
    "    if score > best_tree_score:\n",
    "        best_tree_score = score\n",
    "        best_tree_model = model\n",
    "\n",
    "print(f'Mejor Árbol de Decisión: profundidad={best_tree_model.get_depth()} - Accuracy={best_tree_score:.3f}')"
   ]
  },
  {
   "cell_type": "code",
   "execution_count": 16,
   "metadata": {},
   "outputs": [
    {
     "name": "stdout",
     "output_type": "stream",
     "text": [
      "Mejor Random Forest: árboles=80 - Accuracy=0.799\n"
     ]
    }
   ],
   "source": [
    "#Random Forest con diferentes árboles\n",
    "best_rf_model = None\n",
    "best_rf_score = 0\n",
    "\n",
    "for est in range(10, 101, 10):\n",
    "    model = RandomForestClassifier(n_estimators=est, random_state=12345)\n",
    "    model.fit(X_train, y_train)\n",
    "    score = model.score(X_valid, y_valid)\n",
    "    if score > best_rf_score:\n",
    "        best_rf_score = score\n",
    "        best_rf_model = model\n",
    "\n",
    "print(f'Mejor Random Forest: árboles={best_rf_model.n_estimators} - Accuracy={best_rf_score:.3f}')"
   ]
  },
  {
   "cell_type": "code",
   "execution_count": 17,
   "metadata": {},
   "outputs": [
    {
     "name": "stdout",
     "output_type": "stream",
     "text": [
      "Regresión Logística - Accuracy=0.700\n"
     ]
    }
   ],
   "source": [
    "#Regresión logística\n",
    "lr_model = LogisticRegression(solver='liblinear', random_state=12345)\n",
    "lr_model.fit(X_train, y_train)\n",
    "lr_score = lr_model.score(X_valid, y_valid)\n",
    "print(f'Regresión Logística - Accuracy={lr_score:.3f}')"
   ]
  },
  {
   "cell_type": "code",
   "execution_count": 18,
   "metadata": {},
   "outputs": [
    {
     "name": "stdout",
     "output_type": "stream",
     "text": [
      "Precisión en el conjunto de prueba: 0.787\n"
     ]
    }
   ],
   "source": [
    "#El mejor fue el random forest\n",
    "final_model = best_rf_model\n",
    "y_pred = final_model.predict(X_test)\n",
    "final_accuracy = accuracy_score(y_test, y_pred)\n",
    "\n",
    "print(f'Precisión en el conjunto de prueba: {final_accuracy:.3f}')"
   ]
  },
  {
   "cell_type": "code",
   "execution_count": 19,
   "metadata": {},
   "outputs": [
    {
     "name": "stdout",
     "output_type": "stream",
     "text": [
      "Distribución de predicciones en test:\n",
      "[490 153]\n"
     ]
    }
   ],
   "source": [
    "#Prueba de Cordura\n",
    "\n",
    "#Comprobar si el modelo predice solo una clase (sospechoso)\n",
    "print(\"Distribución de predicciones en test:\")\n",
    "print(np.bincount(y_pred))"
   ]
  },
  {
   "cell_type": "markdown",
   "metadata": {},
   "source": [
    "En este proyecto se desarrollo un modelo de clasificación para predecir qué plan móvil de Megaline (Smart o Ultra) es más adecuado para un cliente, basado en su comportamiento mensual: número de llamadas, minutos hablados, mensajes enviados y uso de datos móviles.\n",
    "\n",
    "Se probaron varios algoritmos: Árbol de Decisión, Random Forest y Regresión Logística, evaluando cada uno mediante validación cruzada y ajuste de hiperparámetros. El modelo que mostró el mejor rendimiento fue el Random Forest, alcanzando una exactitud de aproximadamente 0.799 en el conjunto de prueba.\n",
    "\n",
    "Además, se realizó una prueba de cordura para asegurarnos de que el modelo no esté sesgado hacia una sola clase. Los resultados mostraron una distribución razonable en las predicciones, lo cual indica que el modelo está aprendiendo patrones reales en los datos.\n",
    "\n",
    "Conclusión:\n",
    "El modelo cumple con el umbral mínimo de exactitud de 0.75 y puede ser utilizado como una herramienta confiable para recomendar planes a nuevos clientes en función de su comportamiento."
   ]
  }
 ],
 "metadata": {
  "kernelspec": {
   "display_name": "base",
   "language": "python",
   "name": "python3"
  },
  "language_info": {
   "codemirror_mode": {
    "name": "ipython",
    "version": 3
   },
   "file_extension": ".py",
   "mimetype": "text/x-python",
   "name": "python",
   "nbconvert_exporter": "python",
   "pygments_lexer": "ipython3",
   "version": "3.12.7"
  }
 },
 "nbformat": 4,
 "nbformat_minor": 4
}
